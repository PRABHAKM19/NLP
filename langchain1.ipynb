{
 "cells": [
  {
   "cell_type": "code",
   "execution_count": 7,
   "id": "dfa28351",
   "metadata": {},
   "outputs": [],
   "source": [
    "# Old import (deprecated)\n",
    "from langchain_core.pydantic_v1 import BaseModel\n",
    "\n",
    "# New import (correct)\n",
    "from pydantic import BaseModel"
   ]
  },
  {
   "cell_type": "code",
   "execution_count": null,
   "id": "518832e7",
   "metadata": {},
   "outputs": [],
   "source": [
    "# from langchain_openai import OpenAI\n",
    "# llm=OpenAI(temperature=0.9)\n",
    "\n",
    "# txt=llm(\"i want to open a resturant in India.Suggest a name for that.\")\n",
    "# print(txt)\n",
    "from langchain_openai import OpenAI\n",
    "\n",
    "llm = OpenAI(temperature=0.9)\n",
    "\n",
    "prompt = [\"I want to open a restaurant in India. Suggest a name for that.\"]\n",
    "response = llm.generate(prompt)\n",
    "\n",
    "print(response)"
   ]
  },
  {
   "cell_type": "code",
   "execution_count": null,
   "id": "2263f7a5",
   "metadata": {},
   "outputs": [],
   "source": [
    "pip uninstall langchain-core pydantic langchain-openai"
   ]
  },
  {
   "cell_type": "code",
   "execution_count": null,
   "id": "1ff634a5",
   "metadata": {
    "scrolled": true
   },
   "outputs": [],
   "source": [
    "import time\n",
    "from langchain import OpenAI\n",
    "from openai.error import RateLimitError\n",
    "\n",
    "# Initialize OpenAI API\n",
    "openai = OpenAI(api_key='YOUR_API_KEY_HERE')\n",
    "\n",
    "def generate_completion(prompt):\n",
    "    retries = 5\n",
    "    for attempt in range(retries):\n",
    "        try:\n",
    "            response = openai.Completion.create(\n",
    "                engine=\"text-davinci-003\",\n",
    "                prompt=prompt,\n",
    "                temperature=0.9,\n",
    "                max_tokens=60\n",
    "            )\n",
    "            return response.choices[0].text.strip()\n",
    "        except RateLimitError as e:\n",
    "            print(f\"Rate limit exceeded. Attempt {attempt + 1} of {retries}. Retrying in {2 ** attempt} seconds...\")\n",
    "            time.sleep(2 ** attempt)  # Exponential backoff\n",
    "    return \"Failed to generate completion after multiple attempts.\"\n",
    "\n",
    "prompt = \"I want to open a restaurant in India. Suggest a name for that.\"\n",
    "result = generate_completion(prompt)\n",
    "print(result)"
   ]
  },
  {
   "cell_type": "code",
   "execution_count": null,
   "id": "5f30d4df",
   "metadata": {},
   "outputs": [],
   "source": []
  },
  {
   "cell_type": "code",
   "execution_count": null,
   "id": "0a8181bd",
   "metadata": {},
   "outputs": [],
   "source": []
  }
 ],
 "metadata": {
  "kernelspec": {
   "display_name": "Python 3 (ipykernel)",
   "language": "python",
   "name": "python3"
  },
  "language_info": {
   "codemirror_mode": {
    "name": "ipython",
    "version": 3
   },
   "file_extension": ".py",
   "mimetype": "text/x-python",
   "name": "python",
   "nbconvert_exporter": "python",
   "pygments_lexer": "ipython3",
   "version": "3.11.5"
  }
 },
 "nbformat": 4,
 "nbformat_minor": 5
}
