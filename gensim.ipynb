{
 "cells": [
  {
   "cell_type": "code",
   "execution_count": 2,
   "id": "06b1ecf4",
   "metadata": {},
   "outputs": [],
   "source": [
    "import gensim.downloader as api\n",
    "wv=api.load(\"word2vec-google-news-300\")"
   ]
  },
  {
   "cell_type": "code",
   "execution_count": 3,
   "id": "5ae14ed4",
   "metadata": {},
   "outputs": [
    {
     "data": {
      "text/plain": [
       "0.4098271"
      ]
     },
     "execution_count": 3,
     "metadata": {},
     "output_type": "execute_result"
    }
   ],
   "source": [
    "wv.similarity(w1=\"great\",w2=\"well\")"
   ]
  },
  {
   "cell_type": "code",
   "execution_count": 4,
   "id": "b686841c",
   "metadata": {},
   "outputs": [
    {
     "data": {
      "text/plain": [
       "0.28772828"
      ]
     },
     "execution_count": 4,
     "metadata": {},
     "output_type": "execute_result"
    }
   ],
   "source": [
    "wv.similarity(w1=\"profit\",w2=\"gain\")"
   ]
  },
  {
   "cell_type": "code",
   "execution_count": 7,
   "id": "a1051eb3",
   "metadata": {},
   "outputs": [
    {
     "data": {
      "text/plain": [
       "[('woman', 0.7664012908935547),\n",
       " ('boy', 0.6824870705604553),\n",
       " ('teenager', 0.6586930751800537),\n",
       " ('teenage_girl', 0.6147903203964233),\n",
       " ('girl', 0.5921714305877686),\n",
       " ('suspected_purse_snatcher', 0.5716364979743958),\n",
       " ('robber', 0.5585118532180786),\n",
       " ('Robbery_suspect', 0.5584409832954407),\n",
       " ('teen_ager', 0.5549197196960449),\n",
       " ('men', 0.5489763021469116)]"
      ]
     },
     "execution_count": 7,
     "metadata": {},
     "output_type": "execute_result"
    }
   ],
   "source": [
    "wv.most_similar(\"man\")"
   ]
  },
  {
   "cell_type": "code",
   "execution_count": 8,
   "id": "4f9e937a",
   "metadata": {},
   "outputs": [
    {
     "data": {
      "text/plain": [
       "[('man', 0.7664012312889099),\n",
       " ('girl', 0.7494640946388245),\n",
       " ('teenage_girl', 0.7336829900741577),\n",
       " ('teenager', 0.6317086219787598),\n",
       " ('lady', 0.6288785934448242),\n",
       " ('teenaged_girl', 0.6141784191131592),\n",
       " ('mother', 0.6076306104660034),\n",
       " ('policewoman', 0.6069462299346924),\n",
       " ('boy', 0.5975908637046814),\n",
       " ('Woman', 0.5770983099937439)]"
      ]
     },
     "execution_count": 8,
     "metadata": {},
     "output_type": "execute_result"
    }
   ],
   "source": [
    "wv.most_similar(\"woman\")"
   ]
  },
  {
   "cell_type": "code",
   "execution_count": null,
   "id": "70017fb2",
   "metadata": {},
   "outputs": [],
   "source": []
  }
 ],
 "metadata": {
  "kernelspec": {
   "display_name": "Python 3 (ipykernel)",
   "language": "python",
   "name": "python3"
  },
  "language_info": {
   "codemirror_mode": {
    "name": "ipython",
    "version": 3
   },
   "file_extension": ".py",
   "mimetype": "text/x-python",
   "name": "python",
   "nbconvert_exporter": "python",
   "pygments_lexer": "ipython3",
   "version": "3.11.5"
  }
 },
 "nbformat": 4,
 "nbformat_minor": 5
}
